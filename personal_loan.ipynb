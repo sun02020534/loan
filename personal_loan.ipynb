{
 "cells": [
  {
   "cell_type": "markdown",
   "id": "88b9db30-2839-418b-a4a6-4ac97f116d64",
   "metadata": {},
   "source": [
    "# 개인 대출 승인 여부 예측\n",
    "\n",
    "* 데이터셋 : kaggle (https://www.kaggle.com/datasets/teertha/personal-loan-modeling)\n",
    "\n",
    "* 주제 선정시 GPT에게 도움 받음(Xgboost알고리즘을 사용할 것이라는 내용 추가하여 질문함)\n",
    "\n",
    "질문 : 머신러닝이라는 강좌를 문제중심학습 방식으로 운영할 때, 학생들이 해결해 보기에 적절한 문제들을 추천해줘. 이 때 문제는 Dense Layer를 사용하는 의사결정나무를 사용하는 데 적절한 주제여야 해. 그중에서도 Xgboost를 사용하려고 해. 또한, 가능하면 사용할 공개된 데이터가 있는 제안한 주제들과 그 데이타 링크도 인터넷 상에 공개된 실제 자료의 주소로 함께 알려줘. 주제는 10개 선정해줘.\n",
    "\n",
    "답변 : 문제중심학습 방식으로 머신러닝 강좌를 운영할 때, Dense Layer와 의사결정나무를 사용하는 XGBoost를 적용할 수 있는 주제를 추천하겠습니다. 아래에는 10개의 주제와 관련된 공개 데이터셋 링크를 제공합니다.\n",
    "주제: 개인의 재정 정보를 기반으로 대출 승인 여부를 예측합니다.\n",
    "데이터셋: Personal Loan Model\n",
    "\n",
    "* 데이터셋 : FROM kaggle (https://www.kaggle.com/datasets/teertha/personal-loan-modeling)\n",
    "* Dataset 설명(kaggle 내 설명)\n",
    "개인 대출 고객을 모색하는 은행의 데이터 \n",
    "5,000명의 고객을 포함, 데이터에는 여러가지 고객 관련 정보를 포함\n",
    "csv 형태 파일\n",
    "데이터 세트에는 빈 값(NaN)이 없음\n",
    "데이터 세트에는 숫자와 범주형 속성이 혼합되어 있지만 모든 범주형 데이터는 숫자로 표시됨"
   ]
  },
  {
   "cell_type": "markdown",
   "id": "ce074053-a5fb-46d3-b357-ec9753c6f108",
   "metadata": {},
   "source": [
    "## 1. Loading the Dataset\n",
    "\n",
    "### Attribute Information\n",
    "* ID : Customer ID\n",
    "* Age : Customer's age in completed years\n",
    "* Experience : Number of years of professional experience\n",
    "* Income : Annual income of the customer ($000)\n",
    "* ZIP Code : Home Address ZIP code.\n",
    "* Family : Family size of the customer\n",
    "* CCAvg : Avg. spending on credit cards per month ($000)\n",
    "* Education : Education Level. 1: Undergrad; 2: Graduate; 3: Advanced/Professional\n",
    "* Mortgage : Value of house mortgage if any. ($000)\n",
    "* Personal Loan : Did this customer accept the personal loan offered in the last campaign?\n",
    "* Securities Account : Does the customer have a securities account with the bank?\n",
    "* CD Account : Does the customer have a certificate of deposit (CD) account with the bank?\n",
    "* Online : Does the customer use internet banking facilities?\n",
    "* CreditCard : Does the customer use a credit card issued by this Bank?\n",
    "\n",
    "### 라이브러리를 가져온후, 데이터셋을 로드"
   ]
  },
  {
   "cell_type": "code",
   "execution_count": 12,
   "id": "dc85a7d8-9cc8-449f-959e-1d5dcf5ba4bf",
   "metadata": {},
   "outputs": [
    {
     "name": "stdout",
     "output_type": "stream",
     "text": [
      "   ID  Age  Experience  Income  ZIP Code  Family  CCAvg  Education  Mortgage  \\\n",
      "0   1   25           1      49     91107       4    1.6          1         0   \n",
      "1   2   45          19      34     90089       3    1.5          1         0   \n",
      "2   3   39          15      11     94720       1    1.0          1         0   \n",
      "3   4   35           9     100     94112       1    2.7          2         0   \n",
      "4   5   35           8      45     91330       4    1.0          2         0   \n",
      "\n",
      "   Personal Loan  Securities Account  CD Account  Online  CreditCard  \n",
      "0              0                   1           0       0           0  \n",
      "1              0                   1           0       0           0  \n",
      "2              0                   0           0       0           0  \n",
      "3              0                   0           0       0           0  \n",
      "4              0                   0           0       0           1  \n"
     ]
    }
   ],
   "source": [
    "import numpy as np\n",
    "import pandas as pd\n",
    "from sklearn.model_selection import train_test_split\n",
    "from sklearn.metrics import accuracy_score\n",
    "from xgboost import XGBClassifier\n",
    "import matplotlib.pyplot as plt\n",
    "RANDOM_STATE = 55\n",
    "\n",
    "file_path = 'Bank_Personal_Loan_Modelling.csv'\n",
    "df = pd.read_csv(file_path)\n",
    "\n",
    "print(df.head())"
   ]
  },
  {
   "cell_type": "markdown",
   "id": "6fea2c58-d994-4034-bb5f-1e851925c5f3",
   "metadata": {},
   "source": [
    "## 2. One-hot encoding using Pandas\n",
    "\n",
    "* kaggle 내 Dataset 설명을 통하여 \n",
    "데이터 세트에는 빈 값(NaN)이 없음\n",
    "데이터 세트에는 숫자와 범주형 속성이 혼합되어 있지만 모든 범주형 데이터는 숫자로 표시됨\n",
    "이라는 사실을 알지만, 원핫 인코딩으로 해당 정보와 일치하는지 확인\n",
    "\n",
    "* GPT활용내역 \n",
    "\n",
    "질문 : 파이썬 언어를 활용해서 원핫 인코딩시 원핫인코딩 대상의 변수가 없는 경우 어떤식으로 코드를 작성해야해\n",
    "\n",
    "답변 :원핫 인코딩 시 원핫 인코딩 대상 변수가 없는 경우에도 일관되게 처리를 하기 위해 pandas.get_dummies 함수와 추가 처리를 사용하면 좋습니다. 아래는 해당 상황을 처리하는 방법에 대한 예제 코드입니다.\n",
    "\n",
    "예제 코드 > 원핫 인코딩 대상 변수가 없는 경우 처리(일부 생략)\n",
    "* 원핫 인코딩 수행\n",
    "one_hot_encoded = pd.get_dummies(df[target_column], prefix=target_column)\n",
    "\n",
    "* 모든 가능한 범주를 기준으로 열 정렬 및 누락된 열 추가\n",
    "for category in categories:\n",
    "    col_name = f\"{target_column}_{category}\"\n",
    "    if col_name not in one_hot_encoded.columns:\n",
    "        one_hot_encoded[col_name] = 0  # 없는 열은 0으로 채움\n"
   ]
  },
  {
   "cell_type": "code",
   "execution_count": 13,
   "id": "ddf7ecc5-808a-4dcd-90bc-1c1719c85f09",
   "metadata": {},
   "outputs": [
    {
     "name": "stdout",
     "output_type": "stream",
     "text": [
      "No categorical variables found.\n",
      "No variables to apply one-hot encoding.\n"
     ]
    }
   ],
   "source": [
    "categorical_columns = df.select_dtypes(include=['object']).columns\n",
    "\n",
    "if len(categorical_columns) == 0:\n",
    "    print(\"No categorical variables found.\")\n",
    "else:\n",
    "    print(\"Categorical variables and their unique values:\")\n",
    "    for col in categorical_columns:\n",
    "        unique_values = df[col].nunique()\n",
    "        print(f\"{col}: {unique_values} unique values\")\n",
    "\n",
    "if len(categorical_columns) > 0:\n",
    "    df = pd.get_dummies(df, columns=[col for col in categorical_columns if df[col].nunique() >= 3])\n",
    "    print(\"One-hot encoding applied to variables with 3 or more unique values.\")\n",
    "else:\n",
    "    print(\"No variables to apply one-hot encoding.\")\n"
   ]
  },
  {
   "cell_type": "markdown",
   "id": "5f2d789b-9388-4134-81ba-9403c4257ba8",
   "metadata": {},
   "source": [
    "* 제외할 타겟 변수를 정의한 후, 최종변수를 출력해서 확인해봄\n",
    "* 변수의 수가 12개로 변화됨을 확인가능"
   ]
  },
  {
   "cell_type": "code",
   "execution_count": 15,
   "id": "2a479791-eb57-4c34-8981-b849ccaf6a5c",
   "metadata": {},
   "outputs": [
    {
     "name": "stdout",
     "output_type": "stream",
     "text": [
      "Final variables for modeling:\n",
      "['Age', 'Experience', 'Income', 'Family', 'CCAvg', 'Education', 'Mortgage', 'Personal Loan', 'Securities Account', 'CD Account', 'Online', 'CreditCard']\n",
      "final_variables_number :\n",
      "12\n"
     ]
    }
   ],
   "source": [
    "exclude_columns = ['ID', 'ZIP Code'] \n",
    "final_variables = [col for col in df.columns if col not in exclude_columns]\n",
    "\n",
    "print(\"Final variables for modeling:\")\n",
    "print(final_variables)\n",
    "\n",
    "print(\"final_variables_number :\")\n",
    "print(len(final_variables))"
   ]
  },
  {
   "cell_type": "markdown",
   "id": "ff96a166-89af-492f-bded-66c0d63c2881",
   "metadata": {},
   "source": [
    "## 3. XGBoost\n",
    "\n",
    "* 타겟변수와 피처를 정의함\n",
    " > X : 타겟변수를 제외한 모든열(독립변수로 사용) / Y : 타겟변수\n",
    "* 학습 및 테스트 데이터를 분리함\n",
    " > 데이터를 80 : 20 으로 분할\n",
    " > 데이터 샘플의 수를 확인함"
   ]
  },
  {
   "cell_type": "code",
   "execution_count": 16,
   "id": "ec7e88a1-cee0-48e8-8976-c9c976807c89",
   "metadata": {},
   "outputs": [
    {
     "name": "stdout",
     "output_type": "stream",
     "text": [
      "train samples: 4000\n",
      "test samples: 1000\n",
      "target proportion: 0.0958\n"
     ]
    }
   ],
   "source": [
    "X = df[final_variables].drop(columns='Personal Loan')\n",
    "y = df['Personal Loan']\n",
    "\n",
    "# 학습 및 테스트 데이터 분리\n",
    "X_train, X_test, y_train, y_test = train_test_split(X, y, test_size=0.2, random_state=RANDOM_STATE)\n",
    "\n",
    "print(f'train samples: {len(X_train)}\\ntest samples: {len(X_test)}')\n",
    "print(f'target proportion: {sum(y_train)/len(y_train):.4f}')"
   ]
  },
  {
   "cell_type": "markdown",
   "id": "cbb00c0f-c9d2-489a-9e91-2c57741a7505",
   "metadata": {},
   "source": [
    "* 훈련 세트를 정의 : 80% 학습, 20% 검증\n",
    "\n",
    "* XGBoost 모델 생성 및 학습(이때, 검증 데이터에서 비용함수가 개선되지 않으면 학습을 중단시키게 함) 후, 최종 모델에 피팅된 트리 수를 확인함\n",
    "\n",
    "* GPT 활용내역\n",
    "질문 : XGBoost 모델 생성 및 학습시킬때, 검증 데이터에서 비용함수가 개선되지 않으면 학습을 중단시키게 하는 방법을 알려줘\n",
    "\n",
    "답변(일부생략) : XGBoost 모델 학습 시 검증 데이터의 성능이 개선되지 않을 경우 학습을 중단하도록 설정하는 방법은 early_stopping_rounds 매개변수를 사용하는 것입니다. 이 매개변수는 성능이 개선되지 않는 연속적인 반복(epoch) 수를 지정합니다.\n",
    "\n",
    "아래는 이를 구현하는 코드 예제입니다.\n",
    " XGBoost 모델 학습\n",
    "bst = xgb.train(\n",
    "    params,\n",
    "    dtrain,\n",
    "    num_boost_round=500,  # 최대 반복 횟수\n",
    "    evals=eval_set,       # 평가 데이터 지정\n",
    "    early_stopping_rounds=10,  # 성능이 10번 연속으로 개선되지 않으면 학습 중단\n",
    "    verbose_eval=True     # 학습 과정 출력\n",
    ")\n",
    " early_stopping_rounds:\n",
    "검증 데이터의 성능(eval_metric으로 지정된 메트릭)이 early_stopping_rounds 동안 개선되지 않으면 학습을 중단합니다.\n",
    "이 경우, XGBoost는 가장 좋은 성능을 기록한 모델을 best_iteration으로 반환합니다."
   ]
  },
  {
   "cell_type": "code",
   "execution_count": 17,
   "id": "098382ba-e352-4f45-a838-2a6eb1e8cde5",
   "metadata": {},
   "outputs": [
    {
     "name": "stdout",
     "output_type": "stream",
     "text": [
      "[0]\tvalidation_0-logloss:0.28237\n",
      "[1]\tvalidation_0-logloss:0.24588\n",
      "[2]\tvalidation_0-logloss:0.21832\n",
      "[3]\tvalidation_0-logloss:0.19549\n",
      "[4]\tvalidation_0-logloss:0.17630\n",
      "[5]\tvalidation_0-logloss:0.15993\n",
      "[6]\tvalidation_0-logloss:0.14596\n",
      "[7]\tvalidation_0-logloss:0.13368\n",
      "[8]\tvalidation_0-logloss:0.12289\n",
      "[9]\tvalidation_0-logloss:0.11317\n",
      "[10]\tvalidation_0-logloss:0.10462\n",
      "[11]\tvalidation_0-logloss:0.09702\n",
      "[12]\tvalidation_0-logloss:0.09027\n",
      "[13]\tvalidation_0-logloss:0.08397\n",
      "[14]\tvalidation_0-logloss:0.07865\n",
      "[15]\tvalidation_0-logloss:0.07352\n",
      "[16]\tvalidation_0-logloss:0.06903\n",
      "[17]\tvalidation_0-logloss:0.06524\n",
      "[18]\tvalidation_0-logloss:0.06157\n",
      "[19]\tvalidation_0-logloss:0.05852\n",
      "[20]\tvalidation_0-logloss:0.05568\n",
      "[21]\tvalidation_0-logloss:0.05291\n",
      "[22]\tvalidation_0-logloss:0.05060\n",
      "[23]\tvalidation_0-logloss:0.04840\n",
      "[24]\tvalidation_0-logloss:0.04669\n",
      "[25]\tvalidation_0-logloss:0.04523\n",
      "[26]\tvalidation_0-logloss:0.04373\n",
      "[27]\tvalidation_0-logloss:0.04213\n",
      "[28]\tvalidation_0-logloss:0.04081\n",
      "[29]\tvalidation_0-logloss:0.03983\n",
      "[30]\tvalidation_0-logloss:0.03869\n",
      "[31]\tvalidation_0-logloss:0.03758\n",
      "[32]\tvalidation_0-logloss:0.03690\n",
      "[33]\tvalidation_0-logloss:0.03603\n",
      "[34]\tvalidation_0-logloss:0.03551\n",
      "[35]\tvalidation_0-logloss:0.03486\n",
      "[36]\tvalidation_0-logloss:0.03445\n",
      "[37]\tvalidation_0-logloss:0.03414\n",
      "[38]\tvalidation_0-logloss:0.03388\n",
      "[39]\tvalidation_0-logloss:0.03336\n",
      "[40]\tvalidation_0-logloss:0.03318\n",
      "[41]\tvalidation_0-logloss:0.03284\n",
      "[42]\tvalidation_0-logloss:0.03289\n",
      "[43]\tvalidation_0-logloss:0.03292\n",
      "[44]\tvalidation_0-logloss:0.03291\n",
      "[45]\tvalidation_0-logloss:0.03298\n",
      "[46]\tvalidation_0-logloss:0.03306\n",
      "[47]\tvalidation_0-logloss:0.03296\n",
      "[48]\tvalidation_0-logloss:0.03292\n",
      "[49]\tvalidation_0-logloss:0.03299\n",
      "[50]\tvalidation_0-logloss:0.03292\n",
      "[51]\tvalidation_0-logloss:0.03290\n",
      "[52]\tvalidation_0-logloss:0.03284\n",
      "[53]\tvalidation_0-logloss:0.03267\n",
      "[54]\tvalidation_0-logloss:0.03253\n",
      "[55]\tvalidation_0-logloss:0.03251\n",
      "[56]\tvalidation_0-logloss:0.03240\n",
      "[57]\tvalidation_0-logloss:0.03247\n",
      "[58]\tvalidation_0-logloss:0.03241\n",
      "[59]\tvalidation_0-logloss:0.03217\n",
      "[60]\tvalidation_0-logloss:0.03217\n",
      "[61]\tvalidation_0-logloss:0.03227\n",
      "[62]\tvalidation_0-logloss:0.03206\n",
      "[63]\tvalidation_0-logloss:0.03202\n",
      "[64]\tvalidation_0-logloss:0.03199\n",
      "[65]\tvalidation_0-logloss:0.03206\n",
      "[66]\tvalidation_0-logloss:0.03197\n",
      "[67]\tvalidation_0-logloss:0.03199\n",
      "[68]\tvalidation_0-logloss:0.03187\n",
      "[69]\tvalidation_0-logloss:0.03196\n",
      "[70]\tvalidation_0-logloss:0.03193\n",
      "[71]\tvalidation_0-logloss:0.03202\n",
      "[72]\tvalidation_0-logloss:0.03209\n",
      "[73]\tvalidation_0-logloss:0.03187\n",
      "[74]\tvalidation_0-logloss:0.03184\n",
      "[75]\tvalidation_0-logloss:0.03173\n",
      "[76]\tvalidation_0-logloss:0.03160\n",
      "[77]\tvalidation_0-logloss:0.03152\n",
      "[78]\tvalidation_0-logloss:0.03136\n",
      "[79]\tvalidation_0-logloss:0.03125\n",
      "[80]\tvalidation_0-logloss:0.03123\n",
      "[81]\tvalidation_0-logloss:0.03132\n",
      "[82]\tvalidation_0-logloss:0.03118\n",
      "[83]\tvalidation_0-logloss:0.03097\n",
      "[84]\tvalidation_0-logloss:0.03097\n",
      "[85]\tvalidation_0-logloss:0.03080\n",
      "[86]\tvalidation_0-logloss:0.03075\n",
      "[87]\tvalidation_0-logloss:0.03073\n",
      "[88]\tvalidation_0-logloss:0.03075\n",
      "[89]\tvalidation_0-logloss:0.03046\n",
      "[90]\tvalidation_0-logloss:0.03048\n",
      "[91]\tvalidation_0-logloss:0.03034\n",
      "[92]\tvalidation_0-logloss:0.03047\n",
      "[93]\tvalidation_0-logloss:0.03051\n",
      "[94]\tvalidation_0-logloss:0.03050\n",
      "[95]\tvalidation_0-logloss:0.03028\n",
      "[96]\tvalidation_0-logloss:0.03033\n",
      "[97]\tvalidation_0-logloss:0.03018\n",
      "[98]\tvalidation_0-logloss:0.03022\n",
      "[99]\tvalidation_0-logloss:0.03012\n",
      "[100]\tvalidation_0-logloss:0.03029\n",
      "[101]\tvalidation_0-logloss:0.03030\n",
      "[102]\tvalidation_0-logloss:0.03045\n",
      "[103]\tvalidation_0-logloss:0.03032\n",
      "[104]\tvalidation_0-logloss:0.03018\n",
      "[105]\tvalidation_0-logloss:0.03018\n",
      "[106]\tvalidation_0-logloss:0.03016\n",
      "[107]\tvalidation_0-logloss:0.03003\n",
      "[108]\tvalidation_0-logloss:0.03007\n",
      "[109]\tvalidation_0-logloss:0.03027\n",
      "[110]\tvalidation_0-logloss:0.03014\n",
      "[111]\tvalidation_0-logloss:0.03008\n",
      "[112]\tvalidation_0-logloss:0.03010\n",
      "[113]\tvalidation_0-logloss:0.02995\n",
      "[114]\tvalidation_0-logloss:0.02985\n",
      "[115]\tvalidation_0-logloss:0.02992\n",
      "[116]\tvalidation_0-logloss:0.02986\n",
      "[117]\tvalidation_0-logloss:0.02984\n",
      "[118]\tvalidation_0-logloss:0.02989\n",
      "[119]\tvalidation_0-logloss:0.02992\n",
      "[120]\tvalidation_0-logloss:0.02985\n",
      "[121]\tvalidation_0-logloss:0.02987\n",
      "[122]\tvalidation_0-logloss:0.02998\n",
      "[123]\tvalidation_0-logloss:0.02991\n",
      "[124]\tvalidation_0-logloss:0.02998\n",
      "[125]\tvalidation_0-logloss:0.02997\n",
      "[126]\tvalidation_0-logloss:0.02991\n",
      "[127]\tvalidation_0-logloss:0.03002\n",
      "[128]\tvalidation_0-logloss:0.03010\n",
      "[129]\tvalidation_0-logloss:0.03017\n",
      "[130]\tvalidation_0-logloss:0.03014\n",
      "[131]\tvalidation_0-logloss:0.03014\n",
      "[132]\tvalidation_0-logloss:0.03029\n",
      "[133]\tvalidation_0-logloss:0.03036\n",
      "[134]\tvalidation_0-logloss:0.03023\n",
      "[135]\tvalidation_0-logloss:0.03024\n",
      "[136]\tvalidation_0-logloss:0.03022\n",
      "[137]\tvalidation_0-logloss:0.03032\n",
      "[138]\tvalidation_0-logloss:0.03036\n",
      "[139]\tvalidation_0-logloss:0.03032\n",
      "[140]\tvalidation_0-logloss:0.03033\n",
      "[141]\tvalidation_0-logloss:0.03043\n",
      "[142]\tvalidation_0-logloss:0.03043\n",
      "[143]\tvalidation_0-logloss:0.03039\n",
      "[144]\tvalidation_0-logloss:0.03046\n",
      "[145]\tvalidation_0-logloss:0.03049\n",
      "[146]\tvalidation_0-logloss:0.03050\n",
      "[147]\tvalidation_0-logloss:0.03051\n",
      "[148]\tvalidation_0-logloss:0.03052\n",
      "[149]\tvalidation_0-logloss:0.03050\n",
      "[150]\tvalidation_0-logloss:0.03051\n",
      "[151]\tvalidation_0-logloss:0.03049\n",
      "[152]\tvalidation_0-logloss:0.03060\n",
      "[153]\tvalidation_0-logloss:0.03059\n",
      "[154]\tvalidation_0-logloss:0.03067\n",
      "[155]\tvalidation_0-logloss:0.03067\n",
      "[156]\tvalidation_0-logloss:0.03065\n",
      "[157]\tvalidation_0-logloss:0.03077\n",
      "[158]\tvalidation_0-logloss:0.03086\n",
      "[159]\tvalidation_0-logloss:0.03086\n",
      "[160]\tvalidation_0-logloss:0.03086\n",
      "[161]\tvalidation_0-logloss:0.03083\n",
      "[162]\tvalidation_0-logloss:0.03084\n",
      "[163]\tvalidation_0-logloss:0.03086\n",
      "[164]\tvalidation_0-logloss:0.03089\n",
      "[165]\tvalidation_0-logloss:0.03105\n",
      "[166]\tvalidation_0-logloss:0.03107\n",
      "[167]\tvalidation_0-logloss:0.03109\n",
      "Number of trees fitted in the final model: 117\n"
     ]
    }
   ],
   "source": [
    "n = int(len(X_train) * 0.8)\n",
    "X_train_fit, X_train_eval = X_train[:n], X_train[n:]\n",
    "y_train_fit, y_train_eval = y_train[:n], y_train[n:]\n",
    "\n",
    "xgb_model = XGBClassifier(n_estimators=500, learning_rate=0.1, random_state=RANDOM_STATE, early_stopping_rounds=50)\n",
    "xgb_model.fit(\n",
    "    X_train_fit,\n",
    "    y_train_fit,\n",
    "    eval_set=[(X_train_eval, y_train_eval)],\n",
    "    verbose=True\n",
    ")\n",
    "\n",
    "print(f\"Number of trees fitted in the final model: {xgb_model.best_iteration}\")"
   ]
  },
  {
   "cell_type": "markdown",
   "id": "11e2a18f-4c7f-4fe0-997b-c7ee62dd4be3",
   "metadata": {},
   "source": [
    "* 학습 및 테스트 정확도를 출력\n",
    "- 훈련테이터(X_train)에 대한 모델의 예측결과와 실제 답을(y_train)비교하여 정확도 출력\n",
    "- 테스트 데이터(X_test)에 대한 모델의 예측 결과와 실제 답(y_test)을 비교하여 정확도 출력"
   ]
  },
  {
   "cell_type": "code",
   "execution_count": 18,
   "id": "3ac73a6e-f200-4453-84af-6b55e8d78cd3",
   "metadata": {},
   "outputs": [
    {
     "name": "stdout",
     "output_type": "stream",
     "text": [
      "Metrics train:\n",
      "\tAccuracy score: 0.9978\n",
      "Metrics test:\n",
      "\tAccuracy score: 0.9820\n"
     ]
    }
   ],
   "source": [
    "print(f\"Metrics train:\\n\\tAccuracy score: {accuracy_score(xgb_model.predict(X_train), y_train):.4f}\")\n",
    "print(f\"Metrics test:\\n\\tAccuracy score: {accuracy_score(xgb_model.predict(X_test), y_test):.4f}\")"
   ]
  },
  {
   "cell_type": "markdown",
   "id": "f4feb3bf-54f9-4f6a-9053-bfeaca1544b6",
   "metadata": {},
   "source": [
    "* 훈련정확도 : 99.78%\n",
    "* 테스트정확도 : 98.2%\n",
    "\n",
    "### 훈련 데이터와 테스트 데이터의 정확도 차이 : 1.58%\n",
    "### >> 모델이 일반화를 잘하고 있다고 판단하였음"
   ]
  },
  {
   "cell_type": "markdown",
   "id": "83ee66db-75ef-4d05-b198-f68c8ed59646",
   "metadata": {},
   "source": [
    "* GPT 활용내역\n",
    "\n",
    "질문 : 여러 변수가 있는 데이터를 xg boost 를 통해 확인해보았어.\n",
    "훈련데이터와 테스트 데이터의 정확도 차이까지 완료하였는데, 이후에 추가적으로 넣으면 좋을 코드 있을까?\n",
    "\n",
    "답변(일부생략) : 1. Confusion Matrix (혼동 행렬)\n",
    "2. Classification Report\n",
    "3. Feature Importance\n",
    "4. ROC Curve and AUC Score (이진 분류)\n",
    "5. SHAP Values for Interpretability\n",
    "6. Cross-Validation with Metrics\n",
    "7. Hyperparameter Tuning with Grid Search or Randomized Search\n",
    "이 작업들은 단순히 훈련과 테스트 정확도를 확인하는 것 이상으로, 모델 성능을 다각도로 평가하고 개선할 수 있는 방법을 제공합니다. 특히 Feature Importance와 SHAP은 비즈니스나 도메인 지식에 대한 통찰력을 얻는 데 유용합니다.\n",
    "\n",
    "* 이중 어떤 변수가 가장 중요한 특징인지를 확인하는 3번 Feature Importance을 실행해보았음\n",
    "\n",
    ">>GPT가 답해준 예시코드 \n",
    "3. **Feature Importance**\n",
    "- **목적**: 모델이 각 변수를 얼마나 중요한 특징으로 고려했는지 확인합니다.\n",
    "- **코드**:\n",
    "```python\n",
    "import matplotlib.pyplot as plt\n",
    "\n",
    "특성 중요도 추출\n",
    "importance = xgb_model.get_booster().get_score(importance_type='weight')\n",
    "\n",
    "중요도를 데이터프레임으로 정렬\n",
    "importance_df = pd.DataFrame({\n",
    "    'Feature': importance.keys(),\n",
    "    'Importance': importance.values()\n",
    "}).sort_values(by='Importance', ascending=False)\n",
    "\n",
    "시각화\n",
    "plt.figure(figsize=(10, 6))\n",
    "plt.barh(importance_df['Feature'], importance_df['Importance'])\n",
    "plt.xlabel(\"Feature Importance\")\n",
    "plt.ylabel(\"Feature\")\n",
    "plt.title(\"XGBoost Feature Importance\")\n",
    "plt.show()\n"
   ]
  },
  {
   "cell_type": "code",
   "execution_count": 20,
   "id": "0dcb667c-2e88-45d3-b31d-3ece5620f1f3",
   "metadata": {
    "scrolled": true
   },
   "outputs": [
    {
     "data": {
      "image/png": "[encoded data removed]",
      "text/plain": [
       "<Figure size 1000x600 with 1 Axes>"
      ]
     },
     "metadata": {},
     "output_type": "display_data"
    }
   ],
   "source": [
    "feature_importances = xgb_model.feature_importances_\n",
    "sorted_idx = np.argsort(feature_importances)[::-1]\n",
    "\n",
    "plt.figure(figsize=(10, 6))\n",
    "plt.barh(range(len(sorted_idx)), feature_importances[sorted_idx], align='center')\n",
    "plt.yticks(range(len(sorted_idx)), [final_variables[i] for i in sorted_idx])\n",
    "plt.xlabel('Feature Importance')\n",
    "plt.title('XGBoost Feature Importance (Final Variables)')\n",
    "plt.show()"
   ]
  }
 ],
 "metadata": {
  "kernelspec": {
   "display_name": "Python 3 (ipykernel)",
   "language": "python",
   "name": "python3"
  },
  "language_info": {
   "codemirror_mode": {
    "name": "ipython",
    "version": 3
   },
   "file_extension": ".py",
   "mimetype": "text/x-python",
   "name": "python",
   "nbconvert_exporter": "python",
   "pygments_lexer": "ipython3",
   "version": "3.13.1"
  }
 },
 "nbformat": 4,
 "nbformat_minor": 5
}
